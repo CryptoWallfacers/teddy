{
 "cells": [
  {
   "cell_type": "markdown",
   "metadata": {},
   "source": [
    "# Table of Contents<a name=\"toc\"></a>\n",
    "* [Convert hex to base64](#prob1)\n",
    "* [Fixed XOR](#prob2)\n",
    "* [Single-byte XOR cipher](#prob3)\n",
    "* [Detect single-character XOR](#prob4)\n",
    "* [Implementing repeating-key XOR](#prob5)\n",
    "* [Breaking repeating-key XOR](#prob6)"
   ]
  },
  {
   "cell_type": "markdown",
   "metadata": {},
   "source": [
    "# Convert hex to base64<a name=\"prob1\"></a>"
   ]
  },
  {
   "cell_type": "code",
   "execution_count": 1,
   "metadata": {},
   "outputs": [],
   "source": [
    "import binascii, base64"
   ]
  },
  {
   "cell_type": "code",
   "execution_count": 13,
   "metadata": {},
   "outputs": [],
   "source": [
    "string_to_convert = \"49276d206b696c6c696e6720796f757220627261696e206c696b65206120706f69736f6e6f7573206d757368726f6f6d\""
   ]
  },
  {
   "cell_type": "code",
   "execution_count": 14,
   "metadata": {},
   "outputs": [
    {
     "name": "stdout",
     "output_type": "stream",
     "text": [
      "base64 encoded: SSdtIGtpbGxpbmcgeW91ciBicmFpbiBsaWtlIGEgcG9pc29ub3VzIG11c2hyb29t\n"
     ]
    }
   ],
   "source": [
    "output = base64.b64encode(binascii.unhexlify(string_to_convert)).decode()\n",
    "print(f\"base64 encoded: {output}\")"
   ]
  },
  {
   "cell_type": "markdown",
   "metadata": {},
   "source": [
    "# Fixed XOR<a name=\"prob2\"></a>"
   ]
  },
  {
   "cell_type": "code",
   "execution_count": 2,
   "metadata": {},
   "outputs": [],
   "source": [
    "%%capture\n",
    "!pip install numpy\n",
    "import numpy as np"
   ]
  },
  {
   "cell_type": "code",
   "execution_count": 16,
   "metadata": {},
   "outputs": [],
   "source": [
    "cipher = \"1c0111001f010100061a024b53535009181c\""
   ]
  },
  {
   "cell_type": "code",
   "execution_count": 17,
   "metadata": {},
   "outputs": [],
   "source": [
    "xor_block = \"686974207468652062756c6c277320657965\""
   ]
  },
  {
   "cell_type": "code",
   "execution_count": 8,
   "metadata": {},
   "outputs": [],
   "source": [
    "def xor_encrypt(cipher: bytes, block: bytes) -> bytes:\n",
    "    cipher_npa = np.frombuffer(cipher, dtype=np.uint8)\n",
    "    block_npa = np.frombuffer(block, dtype=np.uint8)\n",
    "    return np.bitwise_xor(cipher_npa, block_npa).tobytes()"
   ]
  },
  {
   "cell_type": "code",
   "execution_count": 19,
   "metadata": {},
   "outputs": [
    {
     "name": "stdout",
     "output_type": "stream",
     "text": [
      "ciphertext, hex: 746865206b696420646f6e277420706c6179\n",
      "ciphertext, bytes: b\"the kid don't play\"\n"
     ]
    }
   ],
   "source": [
    "ciphertext = xor_encrypt(binascii.unhexlify(cipher), binascii.unhexlify(xor_block))\n",
    "print(f\"ciphertext, hex: {binascii.hexlify(ciphertext).decode()}\")\n",
    "print(f\"ciphertext, bytes: {ciphertext}\")"
   ]
  },
  {
   "cell_type": "markdown",
   "metadata": {},
   "source": [
    "# Single-byte XOR cipher<a name=\"prob3\"></a>"
   ]
  },
  {
   "cell_type": "code",
   "execution_count": 14,
   "metadata": {},
   "outputs": [],
   "source": [
    "%%capture\n",
    "!pip install nltk\n",
    "import nltk\n",
    "nltk.download(\"words\")\n",
    "from nltk.corpus import words"
   ]
  },
  {
   "cell_type": "code",
   "execution_count": 21,
   "metadata": {},
   "outputs": [],
   "source": [
    "ciphertext = \"1b37373331363f78151b7f2b783431333d78397828372d363c78373e783a393b3736\""
   ]
  },
  {
   "cell_type": "markdown",
   "metadata": {},
   "source": [
    "Iterate over all possible XOR values from 0x00 to 0xFF, and then compare all characters in the candidate cipher output against valid printable ASCII values, which range from 0x20 - 0x7E.\n",
    "\n",
    "**Assumption** is that the output is printable ASCII."
   ]
  },
  {
   "cell_type": "code",
   "execution_count": 22,
   "metadata": {},
   "outputs": [
    {
     "name": "stdout",
     "output_type": "stream",
     "text": [
      "XOR: 0x58; cipher: Cooking MC's like a pound of bacon\n"
     ]
    }
   ],
   "source": [
    "ciphertext_b = binascii.unhexlify(ciphertext)\n",
    "possible_results = {}\n",
    "for i in range(0x100):\n",
    "    block = np.ones(len(ciphertext_b), dtype=np.uint8) * i\n",
    "    candidate = xor_encrypt(ciphertext_b, block.tobytes())\n",
    "    if True not in map(lambda x: x < 0x20 or x > 0x7f, candidate):\n",
    "        if True in map(lambda word: word in words.words(), candidate.decode().split()):\n",
    "            possible_results[i] = candidate.decode()\n",
    "for k, v in possible_results.items():\n",
    "    print(f\"XOR: 0x{k:02x}; cipher: {v}\")"
   ]
  },
  {
   "cell_type": "markdown",
   "metadata": {},
   "source": [
    "# Detect single-character XOR<a name=\"prob4\"></a>"
   ]
  },
  {
   "cell_type": "code",
   "execution_count": 23,
   "metadata": {},
   "outputs": [],
   "source": [
    "class CipherCandidate:\n",
    "    row: int\n",
    "    xor: int\n",
    "    cipher: str\n",
    "    def __init__(self, row, xor, cipher):\n",
    "        self.row = row\n",
    "        self.xor = xor\n",
    "        self.cipher = cipher\n",
    "    def __str__(self):\n",
    "        return f\"Row: {self.row}; XOR: 0x{self.xor:02x}; Cipher: {self.cipher}\""
   ]
  },
  {
   "cell_type": "code",
   "execution_count": 24,
   "metadata": {},
   "outputs": [
    {
     "name": "stdout",
     "output_type": "stream",
     "text": [
      "Row: 225; XOR: 0x71; Cipher: F J\\{?O#`F[KpB=, r}77OF'X}|cS\n",
      "Row: 295; XOR: 0x70; Cipher: F9QoQt&unYk<(=w9R|X{Z #oVYq N\n"
     ]
    }
   ],
   "source": [
    "results = []\n",
    "fd = open(\"4.txt\")\n",
    "line = fd.readline()\n",
    "idx = 0\n",
    "while line:\n",
    "    # remove newline\n",
    "    if line.endswith(\"\\n\"):\n",
    "        line = line[:-1]\n",
    "    line_b = binascii.unhexlify(line)\n",
    "    for xor in range(0x100):\n",
    "        xor_block = np.ones(len(line_b), dtype=np.uint8) * xor\n",
    "        cipher = xor_encrypt(line_b, xor_block.tobytes())\n",
    "        if True not in map(lambda x: x < 0x20 or x > 0x7e, cipher):\n",
    "            if True in map(lambda word: word in words.words(), cipher.decode().split()):\n",
    "                results.append(CipherCandidate(idx, xor, cipher.decode()))\n",
    "    line = fd.readline()\n",
    "    idx += 1\n",
    "for r in results:\n",
    "    print(r)\n",
    "fd.close()"
   ]
  },
  {
   "cell_type": "markdown",
   "metadata": {},
   "source": [
    "I clearly couldn't figure out what the message was supposed to be."
   ]
  },
  {
   "cell_type": "markdown",
   "metadata": {},
   "source": [
    "# Implementing repeating-key XOR<a name=\"prob5\"></a>"
   ]
  },
  {
   "cell_type": "code",
   "execution_count": 25,
   "metadata": {},
   "outputs": [],
   "source": [
    "phrase = \"Burning 'em, if you ain't quick and nimble\\nI go crazy when I hear a cymbal\""
   ]
  },
  {
   "cell_type": "code",
   "execution_count": 26,
   "metadata": {},
   "outputs": [],
   "source": [
    "xor_block = b\"ICE\""
   ]
  },
  {
   "cell_type": "code",
   "execution_count": 73,
   "metadata": {},
   "outputs": [],
   "source": [
    "def xor_block_encrypt(cipher: bytes, xor_block: bytes) -> bytes:\n",
    "    while len(cipher) > 0:\n",
    "        if len(xor_block) > len(cipher):\n",
    "            xor_block = xor_block[:len(cipher)]\n",
    "            yield xor_encrypt(cipher, xor_block)\n",
    "        segment = cipher[:len(xor_block)]\n",
    "        cipher = cipher[len(xor_block):]\n",
    "        yield xor_encrypt(segment, xor_block)"
   ]
  },
  {
   "cell_type": "code",
   "execution_count": 28,
   "metadata": {},
   "outputs": [
    {
     "name": "stdout",
     "output_type": "stream",
     "text": [
      "0b3637272a2b2e63622c2e69692a23693a2a3c6324202d623d63343c2a26226324272765272a282b2f20430a652e2c652a3124333a653e2b2027630c692b20283165286326302e27282f282f\n"
     ]
    }
   ],
   "source": [
    "phrase_b = bytes(phrase.encode(\"utf8\"))\n",
    "result = b\"\"\n",
    "for ciphertext in xor_block_encrypt(phrase_b, xor_block):\n",
    "    result += ciphertext\n",
    "print(binascii.hexlify(result).decode())"
   ]
  },
  {
   "cell_type": "markdown",
   "metadata": {},
   "source": [
    "# Breaking repeating-key XOR<a name=\"prob6\"></a>"
   ]
  },
  {
   "cell_type": "markdown",
   "metadata": {},
   "source": [
    "## Implement Hamming Distance function\n",
    "It's worth noting that the XOR operation itself will naturally generate a binary stream of where the two strings are different. Counting up the number of 1's in the output binary stream will result in the Hamming Distance between the two strings."
   ]
  },
  {
   "cell_type": "code",
   "execution_count": 3,
   "metadata": {},
   "outputs": [],
   "source": [
    "def hamming(str1: bytes, str2: bytes) -> int:\n",
    "    diff = xor_encrypt(str1, str2)\n",
    "    dist = 0\n",
    "    for n in diff:\n",
    "        a = np.array([i for i in map(lambda x: int(x), list(f\"{n:08b}\"))])\n",
    "        dist += np.sum(a)\n",
    "    return dist"
   ]
  },
  {
   "cell_type": "markdown",
   "metadata": {},
   "source": [
    "Make sure the hamming distance between strings \"`this is a test`\" and \"`wokka wokka!!!`\" is `37`."
   ]
  },
  {
   "cell_type": "code",
   "execution_count": 30,
   "metadata": {},
   "outputs": [
    {
     "data": {
      "text/plain": [
       "37"
      ]
     },
     "execution_count": 30,
     "metadata": {},
     "output_type": "execute_result"
    }
   ],
   "source": [
    "str1 = b\"this is a test\"\n",
    "str2 = b\"wokka wokka!!!\"\n",
    "hamming(str1, str2)"
   ]
  },
  {
   "cell_type": "markdown",
   "metadata": {},
   "source": [
    "## Determine XOR keysize"
   ]
  },
  {
   "cell_type": "code",
   "execution_count": 4,
   "metadata": {},
   "outputs": [],
   "source": [
    "%%capture\n",
    "!pip install matplotlib\n",
    "import pylab as plt"
   ]
  },
  {
   "cell_type": "code",
   "execution_count": 5,
   "metadata": {},
   "outputs": [],
   "source": [
    "from collections import namedtuple\n",
    "XORKeysize = namedtuple(\"XORKeysize\", [\"keysize\", \"hamming_dist\", \"hamming_dist_normal\"])"
   ]
  },
  {
   "cell_type": "code",
   "execution_count": 6,
   "metadata": {},
   "outputs": [],
   "source": [
    "import base64\n",
    "with open(\"6.txt\") as fd:\n",
    "    data = fd.read()\n",
    "data = data.replace(\"\\n\", \"\")\n",
    "data = base64.b64decode(data)"
   ]
  },
  {
   "cell_type": "code",
   "execution_count": 9,
   "metadata": {},
   "outputs": [
    {
     "name": "stdout",
     "output_type": "stream",
     "text": [
      "[XORKeysize(keysize=2, hamming_dist=5, hamming_dist_normal=2.5),\n",
      " XORKeysize(keysize=3, hamming_dist=6, hamming_dist_normal=2.0),\n",
      " XORKeysize(keysize=4, hamming_dist=14, hamming_dist_normal=3.5),\n",
      " XORKeysize(keysize=5, hamming_dist=6, hamming_dist_normal=1.2),\n",
      " XORKeysize(keysize=6, hamming_dist=24, hamming_dist_normal=4.0),\n",
      " XORKeysize(keysize=7, hamming_dist=21, hamming_dist_normal=3.0),\n",
      " XORKeysize(keysize=8, hamming_dist=24, hamming_dist_normal=3.0),\n",
      " XORKeysize(keysize=9, hamming_dist=32, hamming_dist_normal=3.5555555555555554),\n",
      " XORKeysize(keysize=10, hamming_dist=33, hamming_dist_normal=3.3),\n",
      " XORKeysize(keysize=11, hamming_dist=29, hamming_dist_normal=2.6363636363636362),\n",
      " XORKeysize(keysize=12, hamming_dist=39, hamming_dist_normal=3.25),\n",
      " XORKeysize(keysize=13, hamming_dist=33, hamming_dist_normal=2.5384615384615383),\n",
      " XORKeysize(keysize=14, hamming_dist=45, hamming_dist_normal=3.2142857142857144),\n",
      " XORKeysize(keysize=15, hamming_dist=44, hamming_dist_normal=2.933333333333333),\n",
      " XORKeysize(keysize=16, hamming_dist=48, hamming_dist_normal=3.0),\n",
      " XORKeysize(keysize=17, hamming_dist=50, hamming_dist_normal=2.9411764705882355),\n",
      " XORKeysize(keysize=18, hamming_dist=50, hamming_dist_normal=2.7777777777777777),\n",
      " XORKeysize(keysize=19, hamming_dist=63, hamming_dist_normal=3.3157894736842106),\n",
      " XORKeysize(keysize=20, hamming_dist=54, hamming_dist_normal=2.7),\n",
      " XORKeysize(keysize=21, hamming_dist=64, hamming_dist_normal=3.0476190476190474),\n",
      " XORKeysize(keysize=22, hamming_dist=82, hamming_dist_normal=3.727272727272727),\n",
      " XORKeysize(keysize=23, hamming_dist=73, hamming_dist_normal=3.1739130434782608),\n",
      " XORKeysize(keysize=24, hamming_dist=81, hamming_dist_normal=3.375),\n",
      " XORKeysize(keysize=25, hamming_dist=81, hamming_dist_normal=3.24),\n",
      " XORKeysize(keysize=26, hamming_dist=91, hamming_dist_normal=3.5),\n",
      " XORKeysize(keysize=27, hamming_dist=94, hamming_dist_normal=3.4814814814814814),\n",
      " XORKeysize(keysize=28, hamming_dist=99, hamming_dist_normal=3.5357142857142856),\n",
      " XORKeysize(keysize=29, hamming_dist=93, hamming_dist_normal=3.206896551724138),\n",
      " XORKeysize(keysize=30, hamming_dist=103, hamming_dist_normal=3.433333333333333),\n",
      " XORKeysize(keysize=31, hamming_dist=96, hamming_dist_normal=3.096774193548387),\n",
      " XORKeysize(keysize=32, hamming_dist=110, hamming_dist_normal=3.4375),\n",
      " XORKeysize(keysize=33, hamming_dist=108, hamming_dist_normal=3.272727272727273),\n",
      " XORKeysize(keysize=34, hamming_dist=113, hamming_dist_normal=3.323529411764706),\n",
      " XORKeysize(keysize=35, hamming_dist=114, hamming_dist_normal=3.257142857142857),\n",
      " XORKeysize(keysize=36, hamming_dist=123, hamming_dist_normal=3.4166666666666665),\n",
      " XORKeysize(keysize=37, hamming_dist=115, hamming_dist_normal=3.108108108108108),\n",
      " XORKeysize(keysize=38, hamming_dist=109, hamming_dist_normal=2.8684210526315788),\n",
      " XORKeysize(keysize=39, hamming_dist=129, hamming_dist_normal=3.3076923076923075),\n",
      " XORKeysize(keysize=40, hamming_dist=124, hamming_dist_normal=3.1)]\n"
     ]
    }
   ],
   "source": [
    "import pprint\n",
    "keysize_tests = []\n",
    "for i in range(2, 41):\n",
    "    h = hamming(data[:i], data[i:2*i])\n",
    "    keysize_tests.append(XORKeysize(i, h, h/i))\n",
    "pprint.pprint(keysize_tests)"
   ]
  },
  {
   "cell_type": "markdown",
   "metadata": {},
   "source": [
    "It seems that the smallest normalized hamming distance calculated is when the keysize is 5 bytes (1.2). Tests could be done to check to see if this is statistically significant, but as the next lowest normalize value is (2.0) and the vast majority of values falling between 2.5 and 3.5, 1.2 is an outlier."
   ]
  },
  {
   "cell_type": "code",
   "execution_count": 10,
   "metadata": {},
   "outputs": [],
   "source": [
    "xor_keysize = 5"
   ]
  },
  {
   "cell_type": "markdown",
   "metadata": {},
   "source": [
    "## Determine XOR key"
   ]
  },
  {
   "cell_type": "markdown",
   "metadata": {},
   "source": [
    "We're going to trim the data so that it is evenly divisble by the keysize, and then convert it into a matrix."
   ]
  },
  {
   "cell_type": "code",
   "execution_count": 11,
   "metadata": {},
   "outputs": [],
   "source": [
    "trimsize = len(data) % xor_keysize\n",
    "if trimsize > 0:\n",
    "    data = data[:(-1 * trimsize)]\n",
    "data_block = []\n",
    "for i in range(0, len(data), xor_keysize):\n",
    "    data_block.append(list(data[i:i+xor_keysize]))\n",
    "data_block = np.array(data_block, dtype=np.uint8)"
   ]
  },
  {
   "cell_type": "markdown",
   "metadata": {},
   "source": [
    "Iterate over every column, logging XOR byte values that when applied result in over 90% of the values to fall within the printable ASCII range."
   ]
  },
  {
   "cell_type": "code",
   "execution_count": 64,
   "metadata": {},
   "outputs": [],
   "source": [
    "XORCandidate = namedtuple(\"XORCandidate\", [\"byte_position\", \"byte_value\", \"ascii_score\"])\n",
    "\n",
    "ascii_threshold = 0.9\n",
    "\n",
    "def isprintableascii(x):\n",
    "    if x >= 0x20 and x <= 0x7e:\n",
    "        return 1\n",
    "    else:\n",
    "        return 0\n",
    "\n",
    "candidates = {}\n",
    "for pos in range(xor_keysize):\n",
    "    xor_candidates = []\n",
    "    ciphertext = data_block[:, pos]\n",
    "    for xor in range(0x100):\n",
    "        block = np.ones(len(ciphertext), dtype=np.uint8) * xor\n",
    "        cipher = np.bitwise_xor(ciphertext, block).tobytes()\n",
    "        isascii = np.array([x for x in map(isprintableascii, cipher)])\n",
    "        ascii_score = np.sum(isascii) / len(ciphertext)\n",
    "        if ascii_score >= ascii_threshold:\n",
    "            xor_candidates.append(XORCandidate(pos, xor, ascii_score))\n",
    "    candidates[pos] = xor_candidates\n",
    "            \n",
    "# pprint.pprint(candidates)"
   ]
  },
  {
   "cell_type": "markdown",
   "metadata": {},
   "source": [
    "## Sort by top ASCII scores\n",
    "The process has returned multiple possible XOR values. The likely reason for this is that multiple XOR masked values resulted in still-valid ASCII values. Clean up `candidates` by keeping top ASCII score."
   ]
  },
  {
   "cell_type": "code",
   "execution_count": 63,
   "metadata": {},
   "outputs": [
    {
     "name": "stdout",
     "output_type": "stream",
     "text": [
      "Byte Position: 0\n",
      "XORCandidate(byte_position=0, byte_value=97, ascii_score=0.96)\n",
      "XORCandidate(byte_position=0, byte_value=107, ascii_score=0.96)\n",
      "XORCandidate(byte_position=0, byte_value=124, ascii_score=0.96)\n",
      "Byte Position: 1\n",
      "XORCandidate(byte_position=1, byte_value=109, ascii_score=0.9617391304347827)\n",
      "Byte Position: 2\n",
      "XORCandidate(byte_position=2, byte_value=97, ascii_score=0.9356521739130435)\n",
      "Byte Position: 3\n",
      "XORCandidate(byte_position=3, byte_value=109, ascii_score=0.9495652173913044)\n",
      "Byte Position: 4\n",
      "XORCandidate(byte_position=4, byte_value=102, ascii_score=0.9478260869565217)\n",
      "XORCandidate(byte_position=4, byte_value=107, ascii_score=0.9478260869565217)\n"
     ]
    }
   ],
   "source": [
    "for byte_pos, xor_candidates in candidates.items():\n",
    "    print(f\"Byte Position: {byte_pos}\")\n",
    "    max_ascii_score = 0\n",
    "    for candidate in xor_candidates:\n",
    "        if candidate.ascii_score > max_ascii_score:\n",
    "            max_ascii_score = candidate.ascii_score\n",
    "    for candidate in xor_candidates:\n",
    "        if candidate.ascii_score >= max_ascii_score:\n",
    "            print(candidate)"
   ]
  },
  {
   "cell_type": "code",
   "execution_count": 81,
   "metadata": {},
   "outputs": [
    {
     "data": {
      "text/plain": [
       "'v/~ `do~\"x%Q{\\x04\\x0et$}c%xljj%plw(]ks`$\\x0fK9|p(X>/\\x089mm&9wf(,jog>sQgue(wbz\"u!Jq*Jmnv*8|obm\\x05Kl8mV{mgwv,vj?5]4kMrgn,\"s%c.#\\x04S}bU$kncw\\'j$t4\\x19\\x13\\x01\\t[mpd*`)k>qvap)\\x1fi\\x7fl\"qdpo9\\x11\\x12(m#Qm{~\"q\"$%dv`2iQj?xl`*~gm\\'Z22\\x0f~mjhj?`z y}\"\\x14RX`pldb-l\"|#\\x13%%F?ola$5#c,a\"K?e\\x15fvr$cme}1a?[\\x02\\x08~$ii9al`l#c}8jKqx&ijcr$p#\\x19]\\x02]?klb?kfd8%oq>cP}gh\"dbq\"PkW>*@w$\\x05^$?oq>q$hw|\\x1fgk,bien\"?\\'V#aB`\"`i#|fx5p$eq$3C` xlylg4>\\x13%\"\\x03kj`*2pgkmvgnta[/5&C`,Ieq(Y=*\\x0fTk$,G\\x1fVc$lzl8)Zejug#tqemjJw?Az(tm29@(<lnd>lZ(\\x19Ala,|d92Z.mMvj(~kxlr(%e$viR`3,pmow.\\x15\\x1c[.aVvw#u9~qa/$$cj$Tk9\\n[l*xggm\\\\7+\\x038ad\\x7f2|#GmlmllzZd9rlj,lp~&PqA{{awijf%`$#jmk}Pj8&colvs|)\\x19]\\x02\\x0er(jbktp($rl(nf^{v \\x08Qdp\"~\"G7$Lj$|kkf%p%`}$~gIk?aa%kwj??[65\\x0fpq#i&?\\tI/g$K>gX`9dimiz\"q(G%(Q?vmk/9b`4/ik|([/9vhnu?\\x0e\\x15\\x12A0,J36%!`5\\\\k*#zl}.Vjz&{b\\'9sx#W6kEv{wi%9}gk\\x0fK|9}\\x1fguf\"hu5j|*Q{>F9hj~kkmamgaef(Ob~u$qbkaj,[wK|v\"J&.~m(\\'vji>mM.lp(bd{\"~,X4mJk\"ve4wg.*`mf8\\x02\\x04%++7/Up$2l\\x15\\x1a%@po%c#5va&f.swa]$\\x15@mq ~kv)\\x19;>Jt$#Eku`c.%oq>|Wq~eq%mapv(\\\\48Z9\\x0e\\\\\\x7f;zwg,ieb`iXgsewqczkg;Z6-F}m`o\"jp(KJ#o>eW.|fnfik\"r#Wq9K~v%s.l#m,a\"`}|\\x15\\x02P&gnb?p~*Pq*\\x0fuh|,*|wbkb``8cXoz&jfr9s|9\\x17wA#V/n,\\'pbmkVcemaQ(>-\"Vmxqv%\\x15/\"\\t]acc\\'~m$GQla`m\\x18}?bk%n|`f\"]pm\\x0f@mv&.~m(5q}\"jk\\x19fxno#\\x00]wgmJ>8\\x04sn%a$|s.9}{kv/\\x15|v&cjx?ifaF%2Cv$\\x0fC;pw.*mj$wx\\\\v3&rqazpp.\\\\w&Htmp,;|{n.fv(\\x14LJ|3nmq,|d92Z.j[|$n*\\'pdb(w*$\\x18\\x02faj+hi*~kkk]86G|pf*mql(1oea{(\\x19`v |jgz.3#\\\\q*Jmnv*KJla#///8G](t\\x7f$Hc{(?)Z<.M|`| mlj{ks|kzo[hf&gbt9\\x0eJ=X0#Lk|j,<p}`kd\"{naPf2 Ajap\"v%\\x15:#M9wnskvq%m\\x0f\\x0eR[X\\x11.Imjlfuo?\\x02P2aV|r/&4zs$aJ#o>gVcpn/#b~pwm_8&F?c%x)pmam\\x05KllgMazgpfbx$l.\\x15($Z3wqm*r`|kogo}.X$holl \\x13WvmI\"%Bl(px$i)|9|kfy.^fw el~y\"j?Z+mJk}fdl?\\x0fR,kmh~i\\x1fG|i$ly9}z\\'_>/\\x089cmbmfl}asamnh\\\\.xrm#hj{z#\\x14qG\\x04\\\\cpy$9tf4/vj}(Sz|go|,~vza_>(Dzj\",!|nkk@|ebw\\x19Cssg#\\nTko$WpkHql#k9vf~\"k%(j|Fa}g\"qc5qp%R{,Evjh*A^ihmqlv}}Xf?xl`*~fz?G8aHkmlp$q$(5kmq>l\\\\|| {ldx\"\\x19\\x03\\\\&mZpw\"x$9bc,ugf8jL(mna/ZVT?1Z\"8J=$\\x0f\\x06\\x1ea`~;j`#8}V$wgpg umr(\\x196knzznm%9Gi1l\"\\x02Mz^zglga,w{9?]>mKxwjykwlp9lj#2oMajb`%\\x00Mfz9Vp2\\x0fwm#r?vsx(m#\"qj\\x19cpnm/*V%~mY$>W?e`~5pm)mkmuv(?[igvdmrek(V}kf4i%d,{bg%$.pqiQp?jkhe9e9+X9*]vk#\\x06\\x12v|(?wcxnk[(~e\"jbvg9*[?m`9pge>xmpmqlef(5Wpy$hc~fkk[67J9kw&GLl(2war>`Vyw imn?nv#Wq F?{j\\x7f39fo?/\\x08% 1\\x15aw&iv,kmr$\\x14q\\x12@f(%+t%%g8#c}8w\\\\em(\"\\t\\n@kljK2k^zihi%pg/kcc{j\"\\x1fQ\\\\!\"dbq\"PkV:#\\tmacfkvq$G\\\\kq`(]a{u#v*~kk?Z9f\\x0fqmw*mll$apk\"W$Zow {nosn3$GqGpp\"ae/>w./j\"oyl\\x15iwb$kcq#kaW4k\\\\r`%\\x06jVd{8f.ppk\\x19hftk`s9f|!V9,\\tkg#E\\x08\\\\%(\\x12jw(}oQ(pani,xg9\\x0fT?m#@kz-9z%t$qgl{f\\x18.~,bl~5.l$\\x13$5Ji\"ag.t#i/g$gp`L|| \\x02Ook\"g%Vq:Jkam*%v`z\"}.\"QkP$9bk/xwa?%T?(J3pj,.`wkk\\t]k8mViz&ws zhv>\\\\w*G{(gc%>}()`\"{o{^zv \\x08\\\\c`\"n*[5,\\t{e{~\\'z%i(%))2IQwkei`&9oq2D?$]|\"\\t\\x0c\\x14pv(5kkwylM.mhiw*V\"d,@q:F~i)*\\x03vz\"mvmw?zP(}cek,hvp/RqA||$fc p%a%/.ankK}}ifz xj}mJ>%N?|ke89zg%b\"\\x02\\x14]^q3-/%\\\\yc`kA3,]9bzd f%i8vmg2[^w3,cj*nfv?Vw#@`.#a\"?t`(wa\"|k@.~o(\\tzscjmG9,W?dpd*`#c8|ka8OZ(nnm{i?fp8\\x19q,@3sme9p%l$z\"$\\x7fa\\x19\\x0eSg{#dvswmX9/\\t}glk\"|)i%a\"xroF(ghcq,sww L{ \\\\jml*?vihm|kq2lVk1,\\x0e\\x0fZuofkG? [9dvh&f#e4pma>GVc| gm&?A| Vq\"M3\"io59nkmggcj(?Xug}/xwekaS$%Dj$hy>|f.<kgp}.[kf&{lu9wx4\\x19>?\\x05?{bukp}(AUnig.K`rt\"cy{i`kX.>@z$N*\\'vqp!`$h}}[km,jj}9\\x04O\\'R.a[qcw&+jmc8#iwmmZ\"9w`j~z\"q\"Jq\\x0eLrg%e/5#M\"bg\"wf\\x19(Ziij,pj?Ke=*V3pmm95c{%hw$u{Jm|&'"
      ]
     },
     "execution_count": 81,
     "metadata": {},
     "output_type": "execute_result"
    }
   ],
   "source": [
    "xor_block = bytes([107, 109, 97, 109, 107])\n",
    "result = b\"\"\n",
    "for ciphertext in xor_block_encrypt(data, xor_block):\n",
    "    result += ciphertext\n",
    "result.decode()"
   ]
  },
  {
   "cell_type": "markdown",
   "metadata": {},
   "source": [
    "Somewhat unclear what the actual output should be, but clearly I'm not getting it."
   ]
  },
  {
   "cell_type": "code",
   "execution_count": null,
   "metadata": {},
   "outputs": [],
   "source": []
  }
 ],
 "metadata": {
  "kernelspec": {
   "display_name": "Python 3",
   "language": "python",
   "name": "python3"
  },
  "language_info": {
   "codemirror_mode": {
    "name": "ipython",
    "version": 3
   },
   "file_extension": ".py",
   "mimetype": "text/x-python",
   "name": "python",
   "nbconvert_exporter": "python",
   "pygments_lexer": "ipython3",
   "version": "3.8.2"
  }
 },
 "nbformat": 4,
 "nbformat_minor": 4
}
