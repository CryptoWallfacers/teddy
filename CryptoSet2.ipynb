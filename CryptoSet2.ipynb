{
 "cells": [
  {
   "cell_type": "markdown",
   "metadata": {},
   "source": [
    "# Table of Contents<a name=\"toc\"></a>\n",
    "* [Implement PKCS\\#7 padding](#prob9)\n",
    "* [Implement CBC mode](#prob10)\n",
    "* [An ECB/CBC detection oracle](#prob11)\n",
    "* [Byte-at-a-time ECB decryption (Simple)](#prob12)"
   ]
  },
  {
   "cell_type": "code",
   "execution_count": 34,
   "metadata": {},
   "outputs": [],
   "source": [
    "%%capture\n",
    "!pip install pycryptodome\n",
    "from Crypto.Cipher import AES\n",
    "import base64\n",
    "import binascii\n",
    "import numpy as np\n",
    "import random\n",
    "from typing import Tuple, List\n",
    "from enum import Enum, auto"
   ]
  },
  {
   "cell_type": "markdown",
   "metadata": {},
   "source": [
    "# Implement PKCS\\#7 padding<a name=\"prob9\"></a>"
   ]
  },
  {
   "cell_type": "code",
   "execution_count": 2,
   "metadata": {},
   "outputs": [],
   "source": [
    "def pkcs7(data: bytes, *, block_size: int = 16) -> bytes:\n",
    "    padding = block_size - (len(data) % block_size)\n",
    "    return data + bytes([padding for x in range(padding)])"
   ]
  },
  {
   "cell_type": "code",
   "execution_count": 17,
   "metadata": {},
   "outputs": [
    {
     "data": {
      "text/plain": [
       "b'YELLOW SUBMARINE\\x04\\x04\\x04\\x04'"
      ]
     },
     "execution_count": 17,
     "metadata": {},
     "output_type": "execute_result"
    }
   ],
   "source": [
    "pkcs7(b\"YELLOW SUBMARINE\", block_size=20)"
   ]
  },
  {
   "cell_type": "markdown",
   "metadata": {},
   "source": [
    "# Implement CBC mode<a name=\"prob10\"></a>"
   ]
  },
  {
   "cell_type": "markdown",
   "metadata": {},
   "source": [
    "<img src=\"img/CBC_decryption.svg\">\n",
    "<img src=\"img/CBC_encryption.svg\">\n",
    "So, if I understand AES CBC decryption correctly, the way it works is provided an initialization vector, a ciphertext block is deciphered and then XOR'd with the initialization vector to get the resulting plaintext. The next ciphertext block is decrypted  and XOR'd with the previous ciphertext block. CBC encryption works the same, only going the other way."
   ]
  },
  {
   "cell_type": "code",
   "execution_count": 5,
   "metadata": {},
   "outputs": [],
   "source": [
    "def xor_encrypt(cipher: bytes, block: bytes) -> bytes:\n",
    "    cipher_npa = np.frombuffer(cipher, dtype=np.uint8)\n",
    "    block_npa = np.frombuffer(block, dtype=np.uint8)\n",
    "    return np.bitwise_xor(cipher_npa, block_npa).tobytes()\n",
    "xor_decrypt = xor_encrypt"
   ]
  },
  {
   "cell_type": "code",
   "execution_count": 9,
   "metadata": {},
   "outputs": [],
   "source": [
    "def aes_cbc_decipher(ciphertext: bytes, key: bytes, iv: bytes) -> bytes:\n",
    "    decipher = AES.new(key, AES.MODE_ECB)\n",
    "    plaintext = b\"\"\n",
    "    previous_block = iv\n",
    "    while len(ciphertext) > 0:\n",
    "        segment = ciphertext[:len(iv)]\n",
    "        ciphertext = ciphertext[len(iv):]\n",
    "        plaintext += xor_decrypt(decipher.decrypt(segment), previous_block)\n",
    "        previous_block = segment\n",
    "    return plaintext"
   ]
  },
  {
   "cell_type": "code",
   "execution_count": 26,
   "metadata": {},
   "outputs": [],
   "source": [
    "def aes_cbc_encipher(plaintext: bytes, key: bytes, iv: bytes) -> bytes:\n",
    "    encipher = AES.new(key, AES.MODE_ECB)\n",
    "    ciphertext = b\"\"\n",
    "    previous_block = iv\n",
    "    while len(plaintext) > 0:\n",
    "        segment = plaintext[:len(iv)]\n",
    "        plaintext = plaintext[len(iv):]\n",
    "        encoded_block = encipher.encrypt(xor_encrypt(segment, previous_block))\n",
    "        ciphertext += encoded_block\n",
    "        previous_block = encoded_block\n",
    "    return ciphertext"
   ]
  },
  {
   "cell_type": "code",
   "execution_count": 30,
   "metadata": {},
   "outputs": [
    {
     "name": "stdout",
     "output_type": "stream",
     "text": [
      "I'm back and I'm ringin' the bell \n",
      "A rockin' on the mike while the fly girls yell \n",
      "In ecstasy in the back of me \n",
      "Well that's my DJ Deshay cuttin' all them Z's \n",
      "Hittin' hard and the girlies goin' crazy \n",
      "Vanilla's on the mike, man I'm not lazy. \n",
      "\n",
      "I'm lettin' my drug kick in \n",
      "It controls my mouth and I begin \n",
      "To just let it flow, let my concepts go \n",
      "My posse's to the side yellin', Go Vanilla Go! \n",
      "\n",
      "Smooth 'cause that's the way I will be \n",
      "And if you don't give a damn, then \n",
      "Why you starin' at me \n",
      "So get off 'cause I control the stage \n",
      "There's no dissin' allowed \n",
      "I'm in my own phase \n",
      "The girlies sa y they love me and that is ok \n",
      "And I can dance better than any kid n' play \n",
      "\n",
      "Stage 2 -- Yea the one ya' wanna listen to \n",
      "It's off my head so let the beat play through \n",
      "So I can funk it up and make it sound good \n",
      "1-2-3 Yo -- Knock on some wood \n",
      "For good luck, I like my rhymes atrocious \n",
      "Supercalafragilisticexpialidocious \n",
      "I'm an effect and that you can bet \n",
      "I can take a fly girl and make her wet. \n",
      "\n",
      "I'm like Samson -- Samson to Delilah \n",
      "There's no denyin', You can try to hang \n",
      "But you'll keep tryin' to get my style \n",
      "Over and over, practice makes perfect \n",
      "But not if you're a loafer. \n",
      "\n",
      "You'll get nowhere, no place, no time, no girls \n",
      "Soon -- Oh my God, homebody, you probably eat \n",
      "Spaghetti with a spoon! Come on and say it! \n",
      "\n",
      "VIP. Vanilla Ice yep, yep, I'm comin' hard like a rhino \n",
      "Intoxicating so you stagger like a wino \n",
      "So punks stop trying and girl stop cryin' \n",
      "Vanilla Ice is sellin' and you people are buyin' \n",
      "'Cause why the freaks are jockin' like Crazy Glue \n",
      "Movin' and groovin' trying to sing along \n",
      "All through the ghetto groovin' this here song \n",
      "Now you're amazed by the VIP posse. \n",
      "\n",
      "Steppin' so hard like a German Nazi \n",
      "Startled by the bases hittin' ground \n",
      "There's no trippin' on mine, I'm just gettin' down \n",
      "Sparkamatic, I'm hangin' tight like a fanatic \n",
      "You trapped me once and I thought that \n",
      "You might have it \n",
      "So step down and lend me your ear \n",
      "'89 in my time! You, '90 is my year. \n",
      "\n",
      "You're weakenin' fast, YO! and I can tell it \n",
      "Your body's gettin' hot, so, so I can smell it \n",
      "So don't be mad and don't be sad \n",
      "'Cause the lyrics belong to ICE, You can call me Dad \n",
      "You're pitchin' a fit, so step back and endure \n",
      "Let the witch doctor, Ice, do the dance to cure \n",
      "So come up close and don't be square \n",
      "You wanna battle me -- Anytime, anywhere \n",
      "\n",
      "You thought that I was weak, Boy, you're dead wrong \n",
      "So come on, everybody and sing this song \n",
      "\n",
      "Say -- Play that funky music Say, go white boy, go white boy go \n",
      "play that funky music Go white boy, go white boy, go \n",
      "Lay down and boogie and play that funky music till you die. \n",
      "\n",
      "Play that funky music Come on, Come on, let me hear \n",
      "Play that funky music white boy you say it, say it \n",
      "Play that funky music A little louder now \n",
      "Play that funky music, white boy Come on, Come on, Come on \n",
      "Play that funky music \n",
      "\u0004\u0004\u0004\u0004\n"
     ]
    }
   ],
   "source": [
    "key = b\"YELLOW SUBMARINE\"\n",
    "iv = b\"\\x00\" * 16\n",
    "\n",
    "with open(\"set2/10.txt\") as fd:\n",
    "    data = fd.read()\n",
    "data = data.replace(\"\\n\", \"\")\n",
    "\n",
    "ciphertext = base64.b64decode(data)\n",
    "plaintext = aes_cbc_decipher(ciphertext, key, iv)\n",
    "\n",
    "# check to see if encryptor works\n",
    "encoded_text = aes_cbc_encipher(plaintext, key, iv)\n",
    "assert(encoded_text == ciphertext)\n",
    "\n",
    "print(plaintext.decode())"
   ]
  },
  {
   "cell_type": "markdown",
   "metadata": {},
   "source": [
    "[Return to top](#toc)"
   ]
  },
  {
   "cell_type": "markdown",
   "metadata": {},
   "source": [
    "# An ECB/CBC detection oracle<a name=\"prob11\"></a>"
   ]
  },
  {
   "cell_type": "code",
   "execution_count": 36,
   "metadata": {},
   "outputs": [],
   "source": [
    "class AESMode(Enum):\n",
    "    ECB = auto()\n",
    "    CBC = auto()\n",
    "    \n",
    "    def __str__(self):\n",
    "        return f\"{self.name.lower()}\"\n",
    "\n",
    "    \n",
    "def generate_key(num_bytes: int=16) -> bytes:\n",
    "    return bytes([random.randint(0,255) for x in range(num_bytes)])\n",
    "generate_iv = generate_key\n",
    "\n",
    "\n",
    "def aes_dice_roll() -> AESMode:\n",
    "    dice_roll = random.randint(0, 1)\n",
    "    if dice_roll == 0:\n",
    "        return AESMode.ECB\n",
    "    else:\n",
    "        return AESMode.CBC"
   ]
  },
  {
   "cell_type": "code",
   "execution_count": 37,
   "metadata": {},
   "outputs": [],
   "source": [
    "def encryption_oracle(plaintext: bytes, block_size: int=128) -> Tuple[List[str], bytes]:\n",
    "    # pre- and appending random 5-10 bytes to plaintext\n",
    "    plaintext = bytes([random.randint(0, 255) for x in range(random.randint(5, 10))]) + plaintext\n",
    "    plaintext += bytes([random.randint(0, 255) for x in range(random.randint(5, 10))])\n",
    "    \n",
    "    plaintext = pkcs7(plaintext, block_size=block_size)\n",
    "    \n",
    "    ciphertext = b\"\"\n",
    "    ciphermode = []\n",
    "    while len(plaintext) > 0:\n",
    "        segment = plaintext[:block_size]\n",
    "        plaintext = plaintext[block_size:]\n",
    "        roll = aes_dice_roll()\n",
    "        \n",
    "        if roll == AESMode.ECB:\n",
    "            ciphermode.append(str(roll))\n",
    "            key = generate_key()\n",
    "            encipher = AES.new(key, AES.MODE_ECB)\n",
    "            ciphertext += encipher.encrypt(segment)\n",
    "        elif roll == AESMode.CBC:\n",
    "            ciphermode.append(str(roll))\n",
    "            key = generate_key()\n",
    "            iv = generate_iv()\n",
    "            ciphertext += aes_cbc_encipher\n",
    "            \n",
    "    return (ciphermode, ciphertext)"
   ]
  },
  {
   "cell_type": "markdown",
   "metadata": {},
   "source": [
    "[Return to top](#toc)"
   ]
  },
  {
   "cell_type": "markdown",
   "metadata": {},
   "source": [
    "# Byte-at-a-time ECB decryption (Simple)<a name=\"prob12\"></a>"
   ]
  },
  {
   "cell_type": "code",
   "execution_count": null,
   "metadata": {},
   "outputs": [],
   "source": []
  },
  {
   "cell_type": "markdown",
   "metadata": {},
   "source": [
    "[Return to top](#toc)"
   ]
  }
 ],
 "metadata": {
  "kernelspec": {
   "display_name": "Python 3",
   "language": "python",
   "name": "python3"
  },
  "language_info": {
   "codemirror_mode": {
    "name": "ipython",
    "version": 3
   },
   "file_extension": ".py",
   "mimetype": "text/x-python",
   "name": "python",
   "nbconvert_exporter": "python",
   "pygments_lexer": "ipython3",
   "version": "3.8.2"
  }
 },
 "nbformat": 4,
 "nbformat_minor": 4
}
