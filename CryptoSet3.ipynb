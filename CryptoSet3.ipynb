{
 "cells": [
  {
   "cell_type": "markdown",
   "metadata": {},
   "source": [
    "# Table of Contents<a name=\"toc\"></a>\n",
    "* [The CBC padding oracle](#prob17)\n",
    "* [Implement CTR, the stream cipher mode](#prob18)"
   ]
  },
  {
   "cell_type": "code",
   "execution_count": 2,
   "metadata": {},
   "outputs": [],
   "source": [
    "%%capture\n",
    "!pip install pycryptodome\n",
    "!pip install numpy\n",
    "from Crypto.Cipher import AES\n",
    "import base64\n",
    "import binascii\n",
    "import numpy as np\n",
    "import random\n",
    "import uuid\n",
    "from typing import Tuple, List\n",
    "from enum import Enum, auto\n",
    "\n",
    "\n",
    "def pkcs7(data: bytes, *, block_size: int = 16) -> bytes:\n",
    "    padding = block_size - (len(data) % block_size)\n",
    "    return data + bytes([padding for x in range(padding)])\n",
    "\n",
    "\n",
    "def xor_encrypt(cipher: bytes, block: bytes) -> bytes:\n",
    "    cipher_npa = np.frombuffer(cipher, dtype=np.uint8)\n",
    "    block_npa = np.frombuffer(block, dtype=np.uint8)\n",
    "    return np.bitwise_xor(cipher_npa, block_npa).tobytes()\n",
    "xor_decrypt = xor_encrypt\n",
    "\n",
    "\n",
    "def aes_cbc_decipher(ciphertext: bytes, key: bytes, iv: bytes) -> bytes:\n",
    "    decipher = AES.new(key, AES.MODE_ECB)\n",
    "    plaintext = b\"\"\n",
    "    previous_block = iv\n",
    "    while len(ciphertext) > 0:\n",
    "        segment = ciphertext[:len(iv)]\n",
    "        ciphertext = ciphertext[len(iv):]\n",
    "        plaintext += xor_decrypt(decipher.decrypt(segment), previous_block)\n",
    "        previous_block = segment\n",
    "    return plaintext\n",
    "\n",
    "\n",
    "def aes_cbc_encipher(plaintext: bytes, key: bytes, iv: bytes) -> bytes:\n",
    "    encipher = AES.new(key, AES.MODE_ECB)\n",
    "    ciphertext = b\"\"\n",
    "    previous_block = iv\n",
    "    while len(plaintext) > 0:\n",
    "        segment = plaintext[:len(iv)]\n",
    "        plaintext = plaintext[len(iv):]\n",
    "        encoded_block = encipher.encrypt(xor_encrypt(segment, previous_block))\n",
    "        ciphertext += encoded_block\n",
    "        previous_block = encoded_block\n",
    "    return ciphertext\n",
    "\n",
    "\n",
    "def generate_key(num_bytes: int=16) -> bytes:\n",
    "    return bytes([random.randint(0,255) for x in range(num_bytes)])\n",
    "generate_iv = generate_key\n",
    "\n",
    "\n",
    "def pkcs7_validation(data: bytes) -> bool:\n",
    "    # check to see if last byte is 0x01\n",
    "    if data[-1] == 1:\n",
    "        return True\n",
    "    \n",
    "    if data[-1] != 1 and data[-1] == data[-2]:\n",
    "        pad_value = data[-1]\n",
    "        for i in range(1, pad_value):\n",
    "            if data[-1 * i] != data[-1 * (i + 1)]:\n",
    "                return False\n",
    "        return True\n",
    "    \n",
    "    return False"
   ]
  },
  {
   "cell_type": "markdown",
   "metadata": {},
   "source": [
    "# The CBC padding oracle<a name=\"prob17\"></a>"
   ]
  },
  {
   "cell_type": "code",
   "execution_count": 4,
   "metadata": {},
   "outputs": [],
   "source": [
    "_SECRET_KEY = generate_key()"
   ]
  },
  {
   "cell_type": "code",
   "execution_count": 3,
   "metadata": {},
   "outputs": [],
   "source": [
    "def aes_cbc_mystery_output() -> Tuple[bytes, bytes]:\n",
    "    \"\"\"\n",
    "    returns: ciphertext, iv\n",
    "    \"\"\"\n",
    "    mystery_texts = [\n",
    "        \"MDAwMDAwTm93IHRoYXQgdGhlIHBhcnR5IGlzIGp1bXBpbmc=\",\n",
    "        \"MDAwMDAxV2l0aCB0aGUgYmFzcyBraWNrZWQgaW4gYW5kIHRoZSBWZWdhJ3MgYXJlIHB1bXBpbic=\",\n",
    "        \"MDAwMDAyUXVpY2sgdG8gdGhlIHBvaW50LCB0byB0aGUgcG9pbnQsIG5vIGZha2luZw==\",\n",
    "        \"MDAwMDAzQ29va2luZyBNQydzIGxpa2UgYSBwb3VuZCBvZiBiYWNvbg==\",\n",
    "        \"MDAwMDA0QnVybmluZyAnZW0sIGlmIHlvdSBhaW4ndCBxdWljayBhbmQgbmltYmxl\",\n",
    "        \"MDAwMDA1SSBnbyBjcmF6eSB3aGVuIEkgaGVhciBhIGN5bWJhbA==\",\n",
    "        \"MDAwMDA2QW5kIGEgaGlnaCBoYXQgd2l0aCBhIHNvdXBlZCB1cCB0ZW1wbw==\",\n",
    "        \"MDAwMDA3SSdtIG9uIGEgcm9sbCwgaXQncyB0aW1lIHRvIGdvIHNvbG8=\",\n",
    "        \"MDAwMDA4b2xsaW4nIGluIG15IGZpdmUgcG9pbnQgb2g=\",\n",
    "        \"MDAwMDA5aXRoIG15IHJhZy10b3AgZG93biBzbyBteSBoYWlyIGNhbiBibG93\"\n",
    "    ]\n",
    "    plaintext_b64 = mystery_texts[random.randint(0, len(myster_texts))]\n",
    "    plaintext = base64.b64decode(plaintext_b64.encode(\"utf8\"))\n",
    "    \n",
    "    plaintext_padded = pkcs7(plaintext, block_size=len(_SECRET_KEY))\n",
    "    iv = generate_iv(len(_SECRET_KEY))\n",
    "    \n",
    "    ciphertext = aes_cbc_encypher(plaintext_padded, _SECRET_KEY, iv)\n",
    "    \n",
    "    return ciphertext, iv"
   ]
  },
  {
   "cell_type": "code",
   "execution_count": 4,
   "metadata": {},
   "outputs": [],
   "source": [
    "def aes_cbc_decrypt(ciphertext: bytes, iv: bytes) -> bool:\n",
    "    plaintext = aes_cbc_decypher(ciphertext, _SECRET_KEY, iv)\n",
    "    return pkcs7_validation(plaintext)"
   ]
  },
  {
   "cell_type": "markdown",
   "metadata": {},
   "source": [
    "# Implement CTR, the stream cipher mode<a name=\"prob18\"></a>"
   ]
  },
  {
   "cell_type": "code",
   "execution_count": null,
   "metadata": {},
   "outputs": [],
   "source": []
  }
 ],
 "metadata": {
  "kernelspec": {
   "display_name": "Python 3",
   "language": "python",
   "name": "python3"
  },
  "language_info": {
   "codemirror_mode": {
    "name": "ipython",
    "version": 3
   },
   "file_extension": ".py",
   "mimetype": "text/x-python",
   "name": "python",
   "nbconvert_exporter": "python",
   "pygments_lexer": "ipython3",
   "version": "3.8.2"
  }
 },
 "nbformat": 4,
 "nbformat_minor": 4
}
