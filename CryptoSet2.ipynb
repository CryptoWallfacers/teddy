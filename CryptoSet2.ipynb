{
 "cells": [
  {
   "cell_type": "markdown",
   "metadata": {},
   "source": [
    "# Implement PKCS\\#7 padding"
   ]
  },
  {
   "cell_type": "code",
   "execution_count": 12,
   "metadata": {},
   "outputs": [],
   "source": [
    "def pkcs7(data: bytes, *, block_size: int = 16) -> bytes:\n",
    "    padding = block_size - (len(data) % block_size)\n",
    "    return data + bytes([padding for x in range(padding)])"
   ]
  },
  {
   "cell_type": "code",
   "execution_count": 17,
   "metadata": {},
   "outputs": [
    {
     "data": {
      "text/plain": [
       "b'YELLOW SUBMARINE\\x04\\x04\\x04\\x04'"
      ]
     },
     "execution_count": 17,
     "metadata": {},
     "output_type": "execute_result"
    }
   ],
   "source": [
    "pkcs7(b\"YELLOW SUBMARINE\", block_size=20)"
   ]
  },
  {
   "cell_type": "markdown",
   "metadata": {},
   "source": [
    "# Implement CBC mode"
   ]
  },
  {
   "cell_type": "code",
   "execution_count": 19,
   "metadata": {},
   "outputs": [],
   "source": [
    "%%capture\n",
    "!pip install pycryptodome\n",
    "from Crypto.Cipher import AES\n",
    "import base64\n",
    "import binascii\n",
    "import numpy as np"
   ]
  },
  {
   "cell_type": "code",
   "execution_count": 20,
   "metadata": {},
   "outputs": [],
   "source": [
    "def xor_encrypt(cipher: bytes, block: bytes) -> bytes:\n",
    "    cipher_npa = np.frombuffer(cipher, dtype=np.uint8)\n",
    "    block_npa = np.frombuffer(block, dtype=np.uint8)\n",
    "    return np.bitwise_xor(cipher_npa, block_npa).tobytes()"
   ]
  },
  {
   "cell_type": "code",
   "execution_count": null,
   "metadata": {},
   "outputs": [],
   "source": [
    "key = pkcs7(b\"YELLOW SUBMARINE\", block_size=16)\n",
    "iv = b\"\\x00\" * 16\n",
    "\n",
    "with open(\"set2/10.txt\") as fd:\n",
    "    data = fd.read()\n",
    "data = data.replace(\"\\n\", \"\")"
   ]
  }
 ],
 "metadata": {
  "kernelspec": {
   "display_name": "Python 3",
   "language": "python",
   "name": "python3"
  },
  "language_info": {
   "codemirror_mode": {
    "name": "ipython",
    "version": 3
   },
   "file_extension": ".py",
   "mimetype": "text/x-python",
   "name": "python",
   "nbconvert_exporter": "python",
   "pygments_lexer": "ipython3",
   "version": "3.8.2"
  }
 },
 "nbformat": 4,
 "nbformat_minor": 4
}
