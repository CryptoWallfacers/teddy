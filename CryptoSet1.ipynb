{
 "cells": [
  {
   "cell_type": "markdown",
   "metadata": {},
   "source": [
    "# Table of Contents<a name=\"toc\"></a>\n",
    "* [Convert hex to base64](#prob1)\n",
    "* [Fixed XOR](#prob2)\n",
    "* [Single-byte XOR cipher](#prob3)\n",
    "* [Detect single-character XOR](#prob4)\n",
    "* [Implementing repeating-key XOR](#prob5)\n",
    "* [Breaking repeating-key XOR](#prob6)"
   ]
  },
  {
   "cell_type": "markdown",
   "metadata": {},
   "source": [
    "# Convert hex to base64<a name=\"prob1\"></a>"
   ]
  },
  {
   "cell_type": "code",
   "execution_count": 4,
   "metadata": {},
   "outputs": [],
   "source": [
    "string_to_convert = \"49276d206b696c6c696e6720796f757220627261696e206c696b65206120706f69736f6e6f7573206d757368726f6f6d\""
   ]
  },
  {
   "cell_type": "code",
   "execution_count": 5,
   "metadata": {},
   "outputs": [
    {
     "name": "stdout",
     "output_type": "stream",
     "text": [
      "base64 encoded: SSdtIGtpbGxpbmcgeW91ciBicmFpbiBsaWtlIGEgcG9pc29ub3VzIG11c2hyb29t\n"
     ]
    }
   ],
   "source": [
    "import binascii, base64\n",
    "output = base64.b64encode(binascii.unhexlify(string_to_convert)).decode()\n",
    "print(f\"base64 encoded: {output}\")"
   ]
  },
  {
   "cell_type": "markdown",
   "metadata": {},
   "source": [
    "# Fixed XOR<a name=\"prob2\"></a>"
   ]
  },
  {
   "cell_type": "code",
   "execution_count": 10,
   "metadata": {},
   "outputs": [],
   "source": [
    "%%capture\n",
    "!pip install numpy\n",
    "import numpy as np"
   ]
  },
  {
   "cell_type": "code",
   "execution_count": 11,
   "metadata": {},
   "outputs": [],
   "source": [
    "cipher = \"1c0111001f010100061a024b53535009181c\""
   ]
  },
  {
   "cell_type": "code",
   "execution_count": 12,
   "metadata": {},
   "outputs": [],
   "source": [
    "xor_block = \"686974207468652062756c6c277320657965\""
   ]
  },
  {
   "cell_type": "code",
   "execution_count": 13,
   "metadata": {},
   "outputs": [],
   "source": [
    "def xor_encrypt(cipher: bytes, block: bytes) -> bytes:\n",
    "    cipher_npa = np.frombuffer(cipher, dtype=np.uint8)\n",
    "    block_npa = np.frombuffer(block, dtype=np.uint8)\n",
    "    return np.bitwise_xor(cipher_npa, block_npa).tobytes()"
   ]
  },
  {
   "cell_type": "code",
   "execution_count": 14,
   "metadata": {},
   "outputs": [
    {
     "name": "stdout",
     "output_type": "stream",
     "text": [
      "ciphertext, hex: 746865206b696420646f6e277420706c6179\n",
      "ciphertext, bytes: b\"the kid don't play\"\n"
     ]
    }
   ],
   "source": [
    "ciphertext = xor_encrypt(binascii.unhexlify(cipher), binascii.unhexlify(xor_block))\n",
    "print(f\"ciphertext, hex: {binascii.hexlify(ciphertext).decode()}\")\n",
    "print(f\"ciphertext, bytes: {ciphertext}\")"
   ]
  },
  {
   "cell_type": "markdown",
   "metadata": {},
   "source": [
    "# Single-byte XOR cipher<a name=\"prob3\"></a>"
   ]
  },
  {
   "cell_type": "code",
   "execution_count": 15,
   "metadata": {},
   "outputs": [],
   "source": [
    "%%capture\n",
    "!pip install nltk\n",
    "import nltk\n",
    "nltk.download(\"words\")\n",
    "from nltk.corpus import words"
   ]
  },
  {
   "cell_type": "code",
   "execution_count": 16,
   "metadata": {},
   "outputs": [],
   "source": [
    "ciphertext = \"1b37373331363f78151b7f2b783431333d78397828372d363c78373e783a393b3736\""
   ]
  },
  {
   "cell_type": "markdown",
   "metadata": {},
   "source": [
    "Iterate over all possible XOR values from 0x00 to 0xFF, and then compare all characters in the candidate cipher output against valid printable ASCII values, which range from 0x20 - 0x7E.\n",
    "\n",
    "**Assumption** is that the output is printable ASCII."
   ]
  },
  {
   "cell_type": "code",
   "execution_count": 27,
   "metadata": {},
   "outputs": [
    {
     "name": "stdout",
     "output_type": "stream",
     "text": [
      "XOR: 0x58; cipher: Cooking MC's like a pound of bacon\n"
     ]
    }
   ],
   "source": [
    "ciphertext_b = binascii.unhexlify(ciphertext)\n",
    "possible_results = {}\n",
    "for i in range(0x100):\n",
    "    block = np.ones(len(ciphertext_b), dtype=np.uint8) * i\n",
    "    candidate = xor_encrypt(ciphertext_b, block.tobytes())\n",
    "    if True not in map(lambda x: x < 0x20 or x > 0x7f, candidate):\n",
    "        if True in map(lambda word: word in words.words(), candidate.decode().split()):\n",
    "            possible_results[i] = candidate.decode()\n",
    "for k, v in possible_results.items():\n",
    "    print(f\"XOR: 0x{k:02x}; cipher: {v}\")"
   ]
  },
  {
   "cell_type": "markdown",
   "metadata": {},
   "source": [
    "# Detect single-character XOR<a name=\"prob4\"></a>"
   ]
  },
  {
   "cell_type": "code",
   "execution_count": 28,
   "metadata": {},
   "outputs": [],
   "source": [
    "class CipherCandidate:\n",
    "    row: int\n",
    "    xor: int\n",
    "    cipher: str\n",
    "    def __init__(self, row, xor, cipher):\n",
    "        self.row = row\n",
    "        self.xor = xor\n",
    "        self.cipher = cipher\n",
    "    def __str__(self):\n",
    "        return f\"Row: {self.row}; XOR: 0x{self.xor:02x}; Cipher: {self.cipher}\""
   ]
  },
  {
   "cell_type": "code",
   "execution_count": 30,
   "metadata": {},
   "outputs": [
    {
     "name": "stdout",
     "output_type": "stream",
     "text": [
      "Row: 225; XOR: 0x71; Cipher: F J\\{?O#`F[KpB=, r}77OF'X}|cS\n",
      "Row: 295; XOR: 0x70; Cipher: F9QoQt&unYk<(=w9R|X{Z #oVYq N\n"
     ]
    }
   ],
   "source": [
    "results = []\n",
    "fd = open(\"4.txt\")\n",
    "line = fd.readline()\n",
    "idx = 0\n",
    "while line:\n",
    "    # remove newline\n",
    "    if line.endswith(\"\\n\"):\n",
    "        line = line[:-1]\n",
    "    line_b = binascii.unhexlify(line)\n",
    "    for xor in range(0x100):\n",
    "        xor_block = np.ones(len(line_b), dtype=np.uint8) * xor\n",
    "        cipher = xor_encrypt(line_b, xor_block.tobytes())\n",
    "        if True not in map(lambda x: x < 0x20 or x > 0x7f, cipher):\n",
    "            if True in map(lambda word: word in words.words(), cipher.decode().split()):\n",
    "                results.append(CipherCandidate(idx, xor, cipher.decode()))\n",
    "    line = fd.readline()\n",
    "    idx += 1\n",
    "for r in results:\n",
    "    print(r)"
   ]
  },
  {
   "cell_type": "markdown",
   "metadata": {},
   "source": [
    "I clearly couldn't figure out what the message was supposed to be."
   ]
  },
  {
   "cell_type": "markdown",
   "metadata": {},
   "source": [
    "# Implementing repeating-key XOR<a name=\"prob5\"></a>"
   ]
  },
  {
   "cell_type": "code",
   "execution_count": 42,
   "metadata": {},
   "outputs": [],
   "source": [
    "phrase = \"Burning 'em, if you ain't quick and nimble\\nI go crazy when I hear a cymbal\""
   ]
  },
  {
   "cell_type": "code",
   "execution_count": 43,
   "metadata": {},
   "outputs": [],
   "source": [
    "xor_block = b\"ICE\""
   ]
  },
  {
   "cell_type": "code",
   "execution_count": 44,
   "metadata": {},
   "outputs": [],
   "source": [
    "def xor_block_encrypt(cipher: bytes, xor_block: bytes) -> bytes:\n",
    "    while len(cipher) > 0:\n",
    "        if len(xor_block) > len(cipher):\n",
    "            xor_block = xor_block[:len(cipher)]\n",
    "            yield xor_encrypt(cipher, xor_block)\n",
    "        segment = cipher[:len(xor_block)]\n",
    "        cipher = cipher[len(xor_block):]\n",
    "        yield xor_encrypt(segment, xor_block)"
   ]
  },
  {
   "cell_type": "code",
   "execution_count": 45,
   "metadata": {},
   "outputs": [
    {
     "name": "stdout",
     "output_type": "stream",
     "text": [
      "0b3637272a2b2e63622c2e69692a23693a2a3c6324202d623d63343c2a26226324272765272a282b2f20430a652e2c652a3124333a653e2b2027630c692b20283165286326302e27282f282f\n"
     ]
    }
   ],
   "source": [
    "phrase_b = bytes(phrase.encode(\"utf8\"))\n",
    "result = b\"\"\n",
    "for ciphertext in xor_block_encrypt(phrase_b, xor_block):\n",
    "    result += ciphertext\n",
    "print(binascii.hexlify(result).decode())"
   ]
  },
  {
   "cell_type": "markdown",
   "metadata": {},
   "source": [
    "# Breaking repeating-key XOR<a name=\"prob6\"></a>"
   ]
  },
  {
   "cell_type": "markdown",
   "metadata": {},
   "source": [
    "## Implement Hamming Distance function\n",
    "It's worth noting that the XOR operation itself will naturally generate a binary stream of where the two strings are different. Counting up the number of 1's in the output binary stream will result in the Hamming Distance between the two strings."
   ]
  },
  {
   "cell_type": "code",
   "execution_count": 49,
   "metadata": {},
   "outputs": [],
   "source": [
    "def hamming(str1: bytes, str2: bytes) -> int:\n",
    "    diff = xor_encrypt(str1, str2)\n",
    "    dist = 0\n",
    "    for n in diff:\n",
    "        a = np.array([i for i in map(lambda x: int(x), list(f\"{n:08b}\"))])\n",
    "        dist += np.sum(a)\n",
    "    return dist"
   ]
  },
  {
   "cell_type": "markdown",
   "metadata": {},
   "source": [
    "Make sure the hamming distance between strings \"`this is a test`\" and \"`wokka wokka!!!`\" is `37`."
   ]
  },
  {
   "cell_type": "code",
   "execution_count": 52,
   "metadata": {},
   "outputs": [
    {
     "data": {
      "text/plain": [
       "37"
      ]
     },
     "execution_count": 52,
     "metadata": {},
     "output_type": "execute_result"
    }
   ],
   "source": [
    "str1 = b\"this is a test\"\n",
    "str2 = b\"wokka wokka!!!\"\n",
    "hamming(str1, str2)"
   ]
  },
  {
   "cell_type": "code",
   "execution_count": 54,
   "metadata": {},
   "outputs": [],
   "source": [
    "%%capture\n",
    "!pip install matplotlib\n",
    "import pylab as plt"
   ]
  },
  {
   "cell_type": "markdown",
   "metadata": {},
   "source": [
    "## Determine XOR keysize"
   ]
  },
  {
   "cell_type": "code",
   "execution_count": null,
   "metadata": {},
   "outputs": [],
   "source": []
  }
 ],
 "metadata": {
  "kernelspec": {
   "display_name": "Python 3",
   "language": "python",
   "name": "python3"
  },
  "language_info": {
   "codemirror_mode": {
    "name": "ipython",
    "version": 3
   },
   "file_extension": ".py",
   "mimetype": "text/x-python",
   "name": "python",
   "nbconvert_exporter": "python",
   "pygments_lexer": "ipython3",
   "version": "3.8.2"
  }
 },
 "nbformat": 4,
 "nbformat_minor": 4
}
