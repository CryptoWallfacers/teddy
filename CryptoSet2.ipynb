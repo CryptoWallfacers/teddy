{
 "cells": [
  {
   "cell_type": "markdown",
   "metadata": {},
   "source": [
    "# Table of Contents<a name=\"toc\"></a>\n",
    "* [Implement PKCS\\#7 padding](#prob9)\n",
    "* [Implement CBC mode](#prob10)\n",
    "* [An ECB/CBC detection oracle](#prob11)\n",
    "* [Byte-at-a-time ECB decryption (Simple)](#prob12)\n",
    "* [ECB cut-and-paste](#prob13)\n",
    "* [Byte-at-a-time ECB decryption (Harder)](#prob14)"
   ]
  },
  {
   "cell_type": "code",
   "execution_count": 36,
   "metadata": {},
   "outputs": [],
   "source": [
    "%%capture\n",
    "!pip install pycryptodome\n",
    "!pip install numpy\n",
    "from Crypto.Cipher import AES\n",
    "import base64\n",
    "import binascii\n",
    "import numpy as np\n",
    "import random\n",
    "import uuid\n",
    "from typing import Tuple, List\n",
    "from enum import Enum, auto"
   ]
  },
  {
   "cell_type": "markdown",
   "metadata": {},
   "source": [
    "# Implement PKCS\\#7 padding<a name=\"prob9\"></a>"
   ]
  },
  {
   "cell_type": "code",
   "execution_count": 45,
   "metadata": {},
   "outputs": [],
   "source": [
    "def pkcs7(data: bytes, *, block_size: int = 16) -> bytes:\n",
    "    padding = block_size - (len(data) % block_size)\n",
    "    return data + bytes([padding for x in range(padding)])"
   ]
  },
  {
   "cell_type": "code",
   "execution_count": 17,
   "metadata": {},
   "outputs": [
    {
     "data": {
      "text/plain": [
       "b'YELLOW SUBMARINE\\x04\\x04\\x04\\x04'"
      ]
     },
     "execution_count": 17,
     "metadata": {},
     "output_type": "execute_result"
    }
   ],
   "source": [
    "pkcs7(b\"YELLOW SUBMARINE\", block_size=20)"
   ]
  },
  {
   "cell_type": "markdown",
   "metadata": {},
   "source": [
    "# Implement CBC mode<a name=\"prob10\"></a>"
   ]
  },
  {
   "cell_type": "markdown",
   "metadata": {},
   "source": [
    "<img src=\"img/CBC_decryption.svg\">\n",
    "<img src=\"img/CBC_encryption.svg\">\n",
    "So, if I understand AES CBC decryption correctly, the way it works is provided an initialization vector, a ciphertext block is deciphered and then XOR'd with the initialization vector to get the resulting plaintext. The next ciphertext block is decrypted  and XOR'd with the previous ciphertext block. CBC encryption works the same, only going the other way."
   ]
  },
  {
   "cell_type": "code",
   "execution_count": 18,
   "metadata": {},
   "outputs": [],
   "source": [
    "def xor_encrypt(cipher: bytes, block: bytes) -> bytes:\n",
    "    cipher_npa = np.frombuffer(cipher, dtype=np.uint8)\n",
    "    block_npa = np.frombuffer(block, dtype=np.uint8)\n",
    "    return np.bitwise_xor(cipher_npa, block_npa).tobytes()\n",
    "xor_decrypt = xor_encrypt"
   ]
  },
  {
   "cell_type": "code",
   "execution_count": 19,
   "metadata": {},
   "outputs": [],
   "source": [
    "def aes_cbc_decipher(ciphertext: bytes, key: bytes, iv: bytes) -> bytes:\n",
    "    decipher = AES.new(key, AES.MODE_ECB)\n",
    "    plaintext = b\"\"\n",
    "    previous_block = iv\n",
    "    while len(ciphertext) > 0:\n",
    "        segment = ciphertext[:len(iv)]\n",
    "        ciphertext = ciphertext[len(iv):]\n",
    "        plaintext += xor_decrypt(decipher.decrypt(segment), previous_block)\n",
    "        previous_block = segment\n",
    "    return plaintext"
   ]
  },
  {
   "cell_type": "code",
   "execution_count": 20,
   "metadata": {},
   "outputs": [],
   "source": [
    "def aes_cbc_encipher(plaintext: bytes, key: bytes, iv: bytes) -> bytes:\n",
    "    encipher = AES.new(key, AES.MODE_ECB)\n",
    "    ciphertext = b\"\"\n",
    "    previous_block = iv\n",
    "    while len(plaintext) > 0:\n",
    "        segment = plaintext[:len(iv)]\n",
    "        plaintext = plaintext[len(iv):]\n",
    "        encoded_block = encipher.encrypt(xor_encrypt(segment, previous_block))\n",
    "        ciphertext += encoded_block\n",
    "        previous_block = encoded_block\n",
    "    return ciphertext"
   ]
  },
  {
   "cell_type": "code",
   "execution_count": 21,
   "metadata": {},
   "outputs": [
    {
     "name": "stdout",
     "output_type": "stream",
     "text": [
      "I'm back and I'm ringin' the bell \n",
      "A rockin' on the mike while the fly girls yell \n",
      "In ecstasy in the back of me \n",
      "Well that's my DJ Deshay cuttin' all them Z's \n",
      "Hittin' hard and the girlies goin' crazy \n",
      "Vanilla's on the mike, man I'm not lazy. \n",
      "\n",
      "I'm lettin' my drug kick in \n",
      "It controls my mouth and I begin \n",
      "To just let it flow, let my concepts go \n",
      "My posse's to the side yellin', Go Vanilla Go! \n",
      "\n",
      "Smooth 'cause that's the way I will be \n",
      "And if you don't give a damn, then \n",
      "Why you starin' at me \n",
      "So get off 'cause I control the stage \n",
      "There's no dissin' allowed \n",
      "I'm in my own phase \n",
      "The girlies sa y they love me and that is ok \n",
      "And I can dance better than any kid n' play \n",
      "\n",
      "Stage 2 -- Yea the one ya' wanna listen to \n",
      "It's off my head so let the beat play through \n",
      "So I can funk it up and make it sound good \n",
      "1-2-3 Yo -- Knock on some wood \n",
      "For good luck, I like my rhymes atrocious \n",
      "Supercalafragilisticexpialidocious \n",
      "I'm an effect and that you can bet \n",
      "I can take a fly girl and make her wet. \n",
      "\n",
      "I'm like Samson -- Samson to Delilah \n",
      "There's no denyin', You can try to hang \n",
      "But you'll keep tryin' to get my style \n",
      "Over and over, practice makes perfect \n",
      "But not if you're a loafer. \n",
      "\n",
      "You'll get nowhere, no place, no time, no girls \n",
      "Soon -- Oh my God, homebody, you probably eat \n",
      "Spaghetti with a spoon! Come on and say it! \n",
      "\n",
      "VIP. Vanilla Ice yep, yep, I'm comin' hard like a rhino \n",
      "Intoxicating so you stagger like a wino \n",
      "So punks stop trying and girl stop cryin' \n",
      "Vanilla Ice is sellin' and you people are buyin' \n",
      "'Cause why the freaks are jockin' like Crazy Glue \n",
      "Movin' and groovin' trying to sing along \n",
      "All through the ghetto groovin' this here song \n",
      "Now you're amazed by the VIP posse. \n",
      "\n",
      "Steppin' so hard like a German Nazi \n",
      "Startled by the bases hittin' ground \n",
      "There's no trippin' on mine, I'm just gettin' down \n",
      "Sparkamatic, I'm hangin' tight like a fanatic \n",
      "You trapped me once and I thought that \n",
      "You might have it \n",
      "So step down and lend me your ear \n",
      "'89 in my time! You, '90 is my year. \n",
      "\n",
      "You're weakenin' fast, YO! and I can tell it \n",
      "Your body's gettin' hot, so, so I can smell it \n",
      "So don't be mad and don't be sad \n",
      "'Cause the lyrics belong to ICE, You can call me Dad \n",
      "You're pitchin' a fit, so step back and endure \n",
      "Let the witch doctor, Ice, do the dance to cure \n",
      "So come up close and don't be square \n",
      "You wanna battle me -- Anytime, anywhere \n",
      "\n",
      "You thought that I was weak, Boy, you're dead wrong \n",
      "So come on, everybody and sing this song \n",
      "\n",
      "Say -- Play that funky music Say, go white boy, go white boy go \n",
      "play that funky music Go white boy, go white boy, go \n",
      "Lay down and boogie and play that funky music till you die. \n",
      "\n",
      "Play that funky music Come on, Come on, let me hear \n",
      "Play that funky music white boy you say it, say it \n",
      "Play that funky music A little louder now \n",
      "Play that funky music, white boy Come on, Come on, Come on \n",
      "Play that funky music \n",
      "\u0004\u0004\u0004\u0004\n"
     ]
    }
   ],
   "source": [
    "key = b\"YELLOW SUBMARINE\"\n",
    "iv = b\"\\x00\" * 16\n",
    "\n",
    "with open(\"set2/10.txt\") as fd:\n",
    "    data = fd.read()\n",
    "data = data.replace(\"\\n\", \"\")\n",
    "\n",
    "ciphertext = base64.b64decode(data)\n",
    "plaintext = aes_cbc_decipher(ciphertext, key, iv)\n",
    "\n",
    "# check to see if encryptor works\n",
    "encoded_text = aes_cbc_encipher(plaintext, key, iv)\n",
    "assert(encoded_text == ciphertext)\n",
    "\n",
    "print(plaintext.decode())"
   ]
  },
  {
   "cell_type": "markdown",
   "metadata": {},
   "source": [
    "[Return to top](#toc)"
   ]
  },
  {
   "cell_type": "markdown",
   "metadata": {},
   "source": [
    "# An ECB/CBC detection oracle<a name=\"prob11\"></a>"
   ]
  },
  {
   "cell_type": "code",
   "execution_count": 22,
   "metadata": {},
   "outputs": [],
   "source": [
    "class AESMode(Enum):\n",
    "    ECB = auto()\n",
    "    CBC = auto()\n",
    "    \n",
    "    def __str__(self):\n",
    "        return f\"{self.name.lower()}\"\n",
    "\n",
    "    \n",
    "def generate_key(num_bytes: int=16) -> bytes:\n",
    "    return bytes([random.randint(0,255) for x in range(num_bytes)])\n",
    "generate_iv = generate_key\n",
    "\n",
    "\n",
    "def aes_dice_roll() -> AESMode:\n",
    "    dice_roll = random.randint(0, 1)\n",
    "    if dice_roll == 0:\n",
    "        return AESMode.ECB\n",
    "    else:\n",
    "        return AESMode.CBC"
   ]
  },
  {
   "cell_type": "code",
   "execution_count": 23,
   "metadata": {},
   "outputs": [],
   "source": [
    "def encryption_oracle(plaintext: bytes, block_size: int=128) -> Tuple[List[str], bytes]:\n",
    "    # pre- and appending random 5-10 bytes to plaintext\n",
    "    plaintext = bytes([random.randint(0, 255) for x in range(random.randint(5, 10))]) + plaintext\n",
    "    plaintext += bytes([random.randint(0, 255) for x in range(random.randint(5, 10))])\n",
    "    \n",
    "    plaintext = pkcs7(plaintext, block_size=block_size)\n",
    "    \n",
    "    ciphertext = b\"\"\n",
    "    ciphermode = []\n",
    "    while len(plaintext) > 0:\n",
    "        segment = plaintext[:block_size]\n",
    "        plaintext = plaintext[block_size:]\n",
    "        roll = aes_dice_roll()\n",
    "        \n",
    "        if roll == AESMode.ECB:\n",
    "            ciphermode.append(str(roll))\n",
    "            key = generate_key()\n",
    "            encipher = AES.new(key, AES.MODE_ECB)\n",
    "            ciphertext += encipher.encrypt(segment)\n",
    "        elif roll == AESMode.CBC:\n",
    "            ciphermode.append(str(roll))\n",
    "            key = generate_key()\n",
    "            iv = generate_iv()\n",
    "            ciphertext += aes_cbc_encipher\n",
    "            \n",
    "    return (ciphermode, ciphertext)"
   ]
  },
  {
   "cell_type": "markdown",
   "metadata": {},
   "source": [
    "[Return to top](#toc)"
   ]
  },
  {
   "cell_type": "markdown",
   "metadata": {},
   "source": [
    "# Byte-at-a-time ECB decryption (Simple)<a name=\"prob12\"></a>"
   ]
  },
  {
   "cell_type": "code",
   "execution_count": 24,
   "metadata": {},
   "outputs": [],
   "source": [
    "KEY = generate_key()"
   ]
  },
  {
   "cell_type": "code",
   "execution_count": 25,
   "metadata": {},
   "outputs": [],
   "source": [
    "def aes_128_ecb(plaintext: bytes, key: bytes) -> bytes:\n",
    "    block_size = len(key)\n",
    "    magic_text = '''\n",
    "        Um9sbGluJyBpbiBteSA1LjAKV2l0aCBteSByYWctdG9wIGRvd24gc28gbXkg\n",
    "        aGFpciBjYW4gYmxvdwpUaGUgZ2lybGllcyBvbiBzdGFuZGJ5IHdhdmluZyBq\n",
    "        dXN0IHRvIHNheSBoaQpEaWQgeW91IHN0b3A/IE5vLCBJIGp1c3QgZHJvdmUg\n",
    "        YnkK\n",
    "    '''\n",
    "    magic_bytes = base64.b64decode(magic_text)\n",
    "    \n",
    "    plaintext += magic_bytes\n",
    "    \n",
    "    plaintext = pkcs7(plaintext, block_size=block_size)\n",
    "    ciphertext = b\"\"\n",
    "    \n",
    "    # pre- and appending random 5-10 bytes to plaintext\n",
    "#     plaintext = bytes([random.randint(0, 255) for x in range(random.randint(5, 10))]) + plaintext\n",
    "#     plaintext += bytes([random.randint(0, 255) for x in range(random.randint(5, 10))])\n",
    "     \n",
    "    encipher = AES.new(key, AES.MODE_ECB)\n",
    "    ciphertext = encipher.encrypt(plaintext)\n",
    "            \n",
    "    return ciphertext"
   ]
  },
  {
   "cell_type": "markdown",
   "metadata": {},
   "source": [
    "## Step 1: \"Discover\" block size\n",
    "We know it should be 16, which means that the ciphertext length should be a factor of 16 and as bytes are added the ciphertext length should jump by 16 bytes"
   ]
  },
  {
   "cell_type": "code",
   "execution_count": 26,
   "metadata": {},
   "outputs": [
    {
     "name": "stdout",
     "output_type": "stream",
     "text": [
      "0 - Ciphertext length: 144\n",
      "1 - Ciphertext length: 144\n",
      "2 - Ciphertext length: 144\n",
      "3 - Ciphertext length: 144\n",
      "4 - Ciphertext length: 144\n",
      "5 - Ciphertext length: 160\n",
      "6 - Ciphertext length: 160\n",
      "7 - Ciphertext length: 160\n",
      "8 - Ciphertext length: 160\n",
      "9 - Ciphertext length: 160\n"
     ]
    }
   ],
   "source": [
    "plaintext = b\"\"\n",
    "for i in range(10):\n",
    "    plaintext += b\"A\"\n",
    "    ciphertext = aes_128_ecb(plaintext, KEY)\n",
    "    print(f\"{i} - Ciphertext length: {len(ciphertext)}\")"
   ]
  },
  {
   "cell_type": "markdown",
   "metadata": {},
   "source": [
    "## Step 2: \"Detect\" the function is using ECB\n",
    "We're going to make use of code written for problem 8 to do this"
   ]
  },
  {
   "cell_type": "code",
   "execution_count": 27,
   "metadata": {},
   "outputs": [],
   "source": [
    "def exists_repeated_bytes(data: bytes, num_of_bytes: int) -> bytes:\n",
    "    for idx in range(len(data) - num_of_bytes):\n",
    "        segment = data[idx: idx+num_of_bytes]\n",
    "        if data[idx+1:].find(segment) > -1:\n",
    "            return segment\n",
    "    return None"
   ]
  },
  {
   "cell_type": "code",
   "execution_count": 28,
   "metadata": {},
   "outputs": [
    {
     "name": "stdout",
     "output_type": "stream",
     "text": [
      "ciphertext: 8ac25e5276bad2503e9c263144d777008ac25e5276bad2503e9c263144d777008ac25e5276bad2503e9c263144d777008ac25e5276bad2503e9c263144d777008ac25e5276bad2503e9c263144d777008ac25e5276bad2503e9c263144d777008ac25e5276bad2503e9c263144d777008ac25e5276bad2503e9c263144d777004f12d56aa006daadf8f736d814c45056069580863ad1ba3a484c316973f448c6fca2f5ac6d0f5af65023cc2f98360da77703d214d213cefbfef9234bc0998555a0112046168eb0d3591f5f5847e638305e1d50c2b5b7ba9dc2a383e4b52aaaa9d673409ae8d638a58730da6c2e0e88015f671fed73fa85339dca66838b0b52486965e91a859de08796f606c83de300e1\n",
      "repeated bytes: 8ac25e5276bad2503e9c263144d77700\n"
     ]
    }
   ],
   "source": [
    "plaintext = b\"A\" * 128\n",
    "ciphertext = aes_128_ecb(plaintext, KEY)\n",
    "repeated_bytes = exists_repeated_bytes(ciphertext, 16)\n",
    "\n",
    "print(f\"ciphertext: {binascii.hexlify(ciphertext).decode()}\")\n",
    "print(f\"repeated bytes: {binascii.hexlify(repeated_bytes).decode()}\")"
   ]
  },
  {
   "cell_type": "markdown",
   "metadata": {},
   "source": [
    "## Step 3\n",
    "Because we know we're in ECB and that the block size is 128 bits/16 bytes, we're going to craft an input that is exactly one byte short and make note of the output. Our understanding of PKCS\\#7 dictates the end of the block is going to be padding to get the plaintext to a size that is a factor of the block length, which means the first byte  of the mystery message will be the last byte of the 15 byte input."
   ]
  },
  {
   "cell_type": "code",
   "execution_count": 29,
   "metadata": {},
   "outputs": [
    {
     "name": "stdout",
     "output_type": "stream",
     "text": [
      "first block: b'5d44b000e69a02898304f5fab29a439b'\n",
      "remainder of the ciphertext: b'b6b4af13f998c504f9768366efb397c353bbe58e7d7fe238febfc27de4c4ba4a1e5ffa1f1fc046cdff6536905e45d84883a6c75ced7be43ba71df3773ad2587c6113fb5893c2d61b738c49bc74d675cad4c1c643b42d236b3b0bcf90444988b0622c9a058f77c37a935c4a61a986f6b98df2ab49fd252b789b9b55c12fb3ade75dd2f7e04e1fc19fc7274c1360f49455'\n"
     ]
    }
   ],
   "source": [
    "plaintext = b\"A\" * 15\n",
    "ciphertext = aes_128_ecb(plaintext, KEY)\n",
    "print(f\"first block: {binascii.hexlify(ciphertext[:16])}\")\n",
    "print(f\"remainder of the ciphertext: {binascii.hexlify(ciphertext[16:])}\")"
   ]
  },
  {
   "cell_type": "markdown",
   "metadata": {},
   "source": [
    "## Step 4 and 5\n",
    "We're going feed different strings of every possible last byte to the function (e.g. \"AAAAAAAAAAAAAAAA\", \"AAAAAAAAAAAAAAAB\", etc.), checking the first block of every invocation. When we get a match, we've decrypted the first byte of the mystery text. This is because ECB is deterministic and the same input will always result in the same output."
   ]
  },
  {
   "cell_type": "code",
   "execution_count": 30,
   "metadata": {},
   "outputs": [
    {
     "name": "stdout",
     "output_type": "stream",
     "text": [
      "First decrypted byte: b'R'\n"
     ]
    }
   ],
   "source": [
    "for i in range(0x7f):\n",
    "    plaintext = (b\"A\" * 15) + bytes([i])\n",
    "    test_ciphertext = aes_128_ecb(plaintext, KEY)\n",
    "    if test_ciphertext[:16] == ciphertext[:16]:\n",
    "        print(f\"First decrypted byte: {bytes([i])}\")\n",
    "        break"
   ]
  },
  {
   "cell_type": "markdown",
   "metadata": {},
   "source": [
    "Testing to see that if the technique works if I shorten the control plaintext by 1 byte and append the first decrypted byte to the end of it."
   ]
  },
  {
   "cell_type": "code",
   "execution_count": 31,
   "metadata": {},
   "outputs": [
    {
     "name": "stdout",
     "output_type": "stream",
     "text": [
      "Second decrypted byte: b'o'\n"
     ]
    }
   ],
   "source": [
    "plaintext = b\"A\" * 14\n",
    "ciphertext = aes_128_ecb(plaintext, KEY)\n",
    "for i in range(0x9, 0x7f):\n",
    "    plaintext = (b\"A\" * 14) + bytes([ord(\"R\"), i])\n",
    "    test_ciphertext = aes_128_ecb(plaintext, KEY)\n",
    "    if test_ciphertext[:16] == ciphertext[:16]:\n",
    "        print(f\"Second decrypted byte: {bytes([i])}\")\n",
    "        break"
   ]
  },
  {
   "cell_type": "markdown",
   "metadata": {},
   "source": [
    "## Step 6\n",
    "We're going to now repeat steps 3, 4, and 5 to decrypt the remainder of the ciphertext. But we're going to modify the process a little by expanding the number of test bytes to the full ciphertext length."
   ]
  },
  {
   "cell_type": "code",
   "execution_count": 32,
   "metadata": {},
   "outputs": [
    {
     "name": "stdout",
     "output_type": "stream",
     "text": [
      "Decryption failed on byte 139\n",
      "Remaining bytes: b'\\xc8=\\xe3\\x00\\xe1'\n",
      "Decryption result: b\"Rollin' in my 5.0\\nWith my rag-top down so my hair can blow\\nThe girlies on standby waving just to say hi\\nDid you stop? No, I just drove by\\n\\x01\"\n"
     ]
    }
   ],
   "source": [
    "MAGIC_CIPHERTEXT = aes_128_ecb(b\"\", KEY)\n",
    "MAGIC_CIPHERTEXT_SIZE = len(MAGIC_CIPHERTEXT)\n",
    "# MAGIC_CIPHERTEXT_SIZE = 16\n",
    "\n",
    "decrypted_text = b\"\"\n",
    "candidate_plaintext = b\"A\" * (MAGIC_CIPHERTEXT_SIZE - 1)\n",
    "for i in range(MAGIC_CIPHERTEXT_SIZE):\n",
    "    candidate_ciphertext = aes_128_ecb(candidate_plaintext, KEY)\n",
    "    char_identified = False\n",
    "    for char in range(0x7f):\n",
    "        plaintext = candidate_plaintext + decrypted_text + bytes([char])\n",
    "        ciphertext = aes_128_ecb(plaintext, KEY)\n",
    "        if candidate_ciphertext[:MAGIC_CIPHERTEXT_SIZE] == ciphertext[:MAGIC_CIPHERTEXT_SIZE]:\n",
    "            decrypted_text += bytes([char])\n",
    "            candidate_plaintext = candidate_plaintext[1:]\n",
    "            char_identified = True\n",
    "            break\n",
    "    if not char_identified:\n",
    "        print(f\"Decryption failed on byte {i}\")\n",
    "        print(f\"Remaining bytes: {MAGIC_CIPHERTEXT[i:]}\")\n",
    "        break\n",
    "print(f\"Decryption result: {decrypted_text}\") "
   ]
  },
  {
   "cell_type": "markdown",
   "metadata": {},
   "source": [
    "Not entirely sure why the last 5 bytes always fail to decrypt. Might be a side effect of my decryption algorithm that junk data is appended at the end."
   ]
  },
  {
   "cell_type": "markdown",
   "metadata": {},
   "source": [
    "# ECB cut-and-paste<a name=\"prob13\"></a>"
   ]
  },
  {
   "cell_type": "code",
   "execution_count": 43,
   "metadata": {},
   "outputs": [],
   "source": [
    "def sanitize(user_input: str) -> str:\n",
    "    user_input = user_input.replace(\"&\", f\"%{ord('&'):02x}\").replace(\"=\", f\"%{ord('='):02x}\")\n",
    "    return user_input\n",
    "    \n",
    "\n",
    "def cookie_args_parser(args: str) -> dict:\n",
    "    kwargs = {}\n",
    "    for pair in args.split(\"&\"):\n",
    "        k, v = pair.split(\"=\")\n",
    "        kwargs[k] = v\n",
    "    return kwargs\n",
    "\n",
    "\n",
    "def cookie_args_encoder(args: dict) -> str:\n",
    "    output = []\n",
    "    for k, v in args.items():\n",
    "        output.append(f\"{sanitize(k)}={sanitize(v)}\")\n",
    "    return \"&\".join(output)\n",
    "\n",
    "\n",
    "def profile_for(user_email: str) -> str:\n",
    "    profile = {\n",
    "        'email': user_email,\n",
    "        'uid': str(uuid.uuid4()),\n",
    "        'role': 'user'\n",
    "    }\n",
    "    return cookie_args_encoder(profile)"
   ]
  },
  {
   "cell_type": "code",
   "execution_count": 34,
   "metadata": {},
   "outputs": [
    {
     "data": {
      "text/plain": [
       "{'foo': 'bar', 'baz': 'qux', 'zap': 'zazzle'}"
      ]
     },
     "execution_count": 34,
     "metadata": {},
     "output_type": "execute_result"
    }
   ],
   "source": [
    "test_args = \"foo=bar&baz=qux&zap=zazzle\"\n",
    "cookie_args_parser(test_args)"
   ]
  },
  {
   "cell_type": "code",
   "execution_count": 50,
   "metadata": {},
   "outputs": [
    {
     "name": "stdout",
     "output_type": "stream",
     "text": [
      "ciphertext: 94360d935e4ccdb13b29c4f0958b87f1eb3c3e71a1d3f189b9f72300f121bbd9e1f4be95e67be39a6c34e8b536d00035ab4270522b8c70a7f52ed90a3eed24e6369342e7efaca6904e3360d584b413c2\n",
      "decrypted results: {'email': 'foo@bar.com', 'uid': 'fb2f624d-bf68-4bfc-b02f-905ae3a889be', 'role': 'user'}\n"
     ]
    }
   ],
   "source": [
    "KEY = generate_key()\n",
    "\n",
    "encipher = AES.new(KEY, AES.MODE_ECB)\n",
    "decipher = AES.new(KEY, AES.MODE_ECB)\n",
    "\n",
    "secret = pkcs7(bytes(profile_for(\"foo@bar.com\").encode('utf8')), block_size=len(KEY))\n",
    "\n",
    "ciphertext = encipher.encrypt(secret)\n",
    "print(f\"ciphertext: {binascii.hexlify(ciphertext).decode()}\")\n",
    "\n",
    "plaintext = decipher.decrypt(ciphertext)\n",
    "\n",
    "# clean up padding\n",
    "if plaintext[-1] != b\"\\x01\" and plaintext[-1] == plaintext[-2]:\n",
    "    plaintext = plaintext[:-1 * plaintext[-1]]\n",
    "\n",
    "print(f\"decrypted results: {cookie_args_parser(plaintext.decode())}\")"
   ]
  },
  {
   "cell_type": "markdown",
   "metadata": {},
   "source": [
    "[Return to top](#toc)"
   ]
  },
  {
   "cell_type": "markdown",
   "metadata": {},
   "source": [
    "# Byte-at-a-time ECB decryption (Harder)<a name=\"prob14\"></a>"
   ]
  },
  {
   "cell_type": "code",
   "execution_count": 24,
   "metadata": {},
   "outputs": [],
   "source": [
    "KEY = generate_key()"
   ]
  },
  {
   "cell_type": "code",
   "execution_count": 25,
   "metadata": {},
   "outputs": [],
   "source": [
    "def aes_128_ecb(plaintext: bytes, key: bytes) -> bytes:\n",
    "    block_size = len(key)\n",
    "    magic_text = '''\n",
    "        Um9sbGluJyBpbiBteSA1LjAKV2l0aCBteSByYWctdG9wIGRvd24gc28gbXkg\n",
    "        aGFpciBjYW4gYmxvdwpUaGUgZ2lybGllcyBvbiBzdGFuZGJ5IHdhdmluZyBq\n",
    "        dXN0IHRvIHNheSBoaQpEaWQgeW91IHN0b3A/IE5vLCBJIGp1c3QgZHJvdmUg\n",
    "        YnkK\n",
    "    '''\n",
    "    magic_bytes = base64.b64decode(magic_text)\n",
    "    \n",
    "    plaintext += magic_bytes\n",
    "    \n",
    "    plaintext = pkcs7(plaintext, block_size=block_size)\n",
    "    ciphertext = b\"\"\n",
    "    \n",
    "    # pre- and appending random 5-10 bytes to plaintext\n",
    "    plaintext = bytes([random.randint(0, 255) for x in range(random.randint(5, 10))]) + plaintext\n",
    "#     plaintext += bytes([random.randint(0, 255) for x in range(random.randint(5, 10))])\n",
    "     \n",
    "    encipher = AES.new(key, AES.MODE_ECB)\n",
    "    ciphertext = encipher.encrypt(plaintext)\n",
    "            \n",
    "    return ciphertext"
   ]
  }
 ],
 "metadata": {
  "kernelspec": {
   "display_name": "Python 3",
   "language": "python",
   "name": "python3"
  },
  "language_info": {
   "codemirror_mode": {
    "name": "ipython",
    "version": 3
   },
   "file_extension": ".py",
   "mimetype": "text/x-python",
   "name": "python",
   "nbconvert_exporter": "python",
   "pygments_lexer": "ipython3",
   "version": "3.8.2"
  }
 },
 "nbformat": 4,
 "nbformat_minor": 4
}
